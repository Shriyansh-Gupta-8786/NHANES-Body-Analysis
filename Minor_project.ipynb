{
  "nbformat": 4,
  "nbformat_minor": 0,
  "metadata": {
    "colab": {
      "provenance": [],
      "collapsed_sections": [
        "6ehsptIt9F3F",
        "1i9SLxy79RkA",
        "1ysGMQif91lw",
        "ca4J8Qb897qa",
        "i09uowl89__s",
        "P5ROzARL-Gao",
        "ufdrdYBT-Jto",
        "N1Wz33w3-Me0",
        "Vp4pNsjw-pBW",
        "c1M5ARqqAweQ"
      ],
      "mount_file_id": "13fBMGh1_gRrsx12FXiMVY7BHYmFWZYCv",
      "authorship_tag": "ABX9TyOuulHqSJuRdlV1EWUOt96I",
      "include_colab_link": true
    },
    "kernelspec": {
      "name": "python3",
      "display_name": "Python 3"
    },
    "language_info": {
      "name": "python"
    }
  },
  "cells": [
    {
      "cell_type": "markdown",
      "metadata": {
        "id": "view-in-github",
        "colab_type": "text"
      },
      "source": [
        "<a href=\"https://colab.research.google.com/github/Shriyansh-Gupta-8786/NHANES-Body-Analysis/blob/main/Minor_project.ipynb\" target=\"_parent\"><img src=\"https://colab.research.google.com/assets/colab-badge.svg\" alt=\"Open In Colab\"/></a>"
      ]
    },
    {
      "cell_type": "markdown",
      "source": [
        "Capstone Project 1: Working with NumPy Matrices (Multidimensional Data)\n",
        "​This project aims to analyze body measurement data for adult males and females from the National Health and Nutrition Examination Survey (NHANES) using Python libraries, including NumPy and Matplotlib.​ Below outlines various tasks to be performed, presenting data visualizations and interpretations."
      ],
      "metadata": {
        "id": "99haB1-23rqo"
      }
    },
    {
      "cell_type": "markdown",
      "source": [
        "# Mounting Google Drive, Importing Data Files and Read the Data as Numpy Matrices"
      ],
      "metadata": {
        "id": "6ehsptIt9F3F"
      }
    },
    {
      "cell_type": "markdown",
      "source": [
        "First, we will load the datasets containing body measurements for adult males and females. The data will be read into two NumPy matrices named male and female."
      ],
      "metadata": {
        "id": "sRStD8aN7-Fh"
      }
    },
    {
      "cell_type": "code",
      "source": [
        "from google.colab import drive\n",
        "drive.mount('/content/drive')\n",
        "\n",
        "import numpy as np\n",
        "\n",
        "# Load the male and female datasets\n",
        "male = np.genfromtxt('/content/drive/MyDrive/Corizo/nhanes_adult_male_bmx_2020.csv', delimiter=',', skip_header=1)\n",
        "female = np.genfromtxt('/content/drive/MyDrive/Corizo/nhanes_adult_female_bmx_2020.csv', delimiter=',', skip_header=1)\n",
        "\n",
        "# Check for NaN values\n",
        "print(\"Any NaN in male data:\", np.isnan(male).any())\n",
        "print(\"Any NaN in female data:\", np.isnan(female).any())\n",
        "\n",
        "# Remove rows with NaN values\n",
        "male = male[~np.isnan(male).any(axis=1)]\n",
        "female = female[~np.isnan(female).any(axis=1)]\n",
        "\n",
        "\n",
        "#Display the shapes of the matrices\n",
        "male.shape, female.shape\n",
        "display(male)\n",
        "display(female)"
      ],
      "metadata": {
        "id": "1SvTOE8_0STu"
      },
      "execution_count": null,
      "outputs": []
    },
    {
      "cell_type": "markdown",
      "source": [
        "The matrices have been successfully loaded and now contain the body measurement data for each gender. Each matrix consists of seven columns as described."
      ],
      "metadata": {
        "id": "rMXnJAwT7atF"
      }
    },
    {
      "cell_type": "markdown",
      "source": [
        "# Plot Histograms for Weights"
      ],
      "metadata": {
        "id": "1i9SLxy79RkA"
      }
    },
    {
      "cell_type": "markdown",
      "source": [
        "We will create histograms for the weights of adult females and males to visualize the distributions."
      ],
      "metadata": {
        "id": "-yhiLiXa7kgQ"
      }
    },
    {
      "cell_type": "code",
      "source": [
        "import matplotlib.pyplot as plt\n",
        "\n",
        "# Extract weights from the matrices\n",
        "female_weights = female[:, 0]  # First column (weight) for females\n",
        "male_weights = male[:, 0]      # First column (weight) for males\n",
        "\n",
        "# Create histograms\n",
        "plt.figure(figsize=(10, 8))\n",
        "\n",
        "# Female weights histogram\n",
        "plt.subplot(2, 1, 1)\n",
        "plt.hist(female_weights, bins=20, color='pink', alpha=0.7)\n",
        "plt.title('Female Weight Distribution')\n",
        "plt.xlim(40, 150)\n",
        "plt.xlabel('Weight (kg)')\n",
        "plt.ylabel('Frequency')\n",
        "\n",
        "# Male weights histogram\n",
        "plt.subplot(2, 1, 2)\n",
        "plt.hist(male_weights, bins=20, color='blue', alpha=0.7)\n",
        "plt.title('Male Weight Distribution')\n",
        "plt.xlim(40, 150)\n",
        "plt.xlabel('Weight (kg)')\n",
        "plt.ylabel('Frequency')\n",
        "\n",
        "plt.tight_layout()\n",
        "plt.show()"
      ],
      "metadata": {
        "id": "RSWSNHhs75g2"
      },
      "execution_count": null,
      "outputs": []
    },
    {
      "cell_type": "markdown",
      "source": [
        "The histograms reveal that both male and female weight distributions are approximately normal with slight skewness. The female weights tend to concentrate more towards the lower end, while male weights are more evenly distributed."
      ],
      "metadata": {
        "id": "z1sEvNTp7v5y"
      }
    },
    {
      "cell_type": "markdown",
      "source": [
        "# Box-and-Whisker Plot for Weights"
      ],
      "metadata": {
        "id": "1ysGMQif91lw"
      }
    },
    {
      "cell_type": "markdown",
      "source": [
        "Next, we will create a box-and-whisker plot to compare male and female weights side by side."
      ],
      "metadata": {
        "id": "E_E9LPCd8Ht8"
      }
    },
    {
      "cell_type": "code",
      "source": [
        "# Create a boxplot for comparing male and female weights\n",
        "plt.figure(figsize=(8, 5))\n",
        "#plt.boxplot([female_weights, male_weights], labels=['Females', 'Males'])\n",
        "plt.boxplot([female[1:,1], male[3:,1]], labels=['Females', 'Males'])\n",
        "plt.title('Weight Comparison (Box-and-Whisker Plot)')\n",
        "plt.ylabel('Weight (kg)')\n",
        "plt.grid()\n",
        "plt.show()\n"
      ],
      "metadata": {
        "id": "hJGBjZ4Y79yW",
        "collapsed": true
      },
      "execution_count": null,
      "outputs": []
    },
    {
      "cell_type": "markdown",
      "source": [
        "The box-and-whisker plot illustrates the weight distributions for both genders clearly. Males generally have a higher median weight compared to females, and the spread (interquartile range) of weights is also wider among males."
      ],
      "metadata": {
        "id": "DFWMPla58MEG"
      }
    },
    {
      "cell_type": "markdown",
      "source": [
        "# Basic Numerical Aggregates"
      ],
      "metadata": {
        "id": "ca4J8Qb897qa"
      }
    },
    {
      "cell_type": "markdown",
      "source": [
        "We will compute basic statistical measures for male and female weights, including mean, median, standard deviation, and variance."
      ],
      "metadata": {
        "id": "ArcXEF7B8Orq"
      }
    },
    {
      "cell_type": "code",
      "source": [
        "male_stats = {\n",
        "    'mean': np.mean(male_weights),\n",
        "    'median': np.median(male_weights),\n",
        "    'std': np.std(male_weights),\n",
        "    'min': np.min(male_weights),\n",
        "    'max': np.max(male_weights),\n",
        "    'q1': np.percentile(male_weights, 25),\n",
        "    'q3': np.percentile(male_weights, 75)\n",
        "}\n",
        "\n",
        "female_stats = {\n",
        "    'mean': np.mean(female_weights),\n",
        "    'median': np.median(female_weights),\n",
        "    'std': np.std(female_weights),\n",
        "    'min': np.min(female_weights),\n",
        "    'max': np.max(female_weights),\n",
        "    'q1': np.percentile(female_weights, 25),\n",
        "    'q3': np.percentile(female_weights, 75)\n",
        "}\n",
        "\n",
        "print(\"Male Weight Stats:\", male_stats)\n",
        "print(\"Female Weight Stats:\", female_stats)"
      ],
      "metadata": {
        "id": "KBzmx44I7-Ao"
      },
      "execution_count": null,
      "outputs": []
    },
    {
      "cell_type": "markdown",
      "source": [
        "Upon reviewing the statistical measures, it is evident that males have a higher average weight compared to females. The standard deviation for female weights is lower, indicating less variability in female weights compared to males."
      ],
      "metadata": {
        "id": "HKteaRKJ-MWM"
      }
    },
    {
      "cell_type": "markdown",
      "source": [
        "# Adding Body Mass Index (BMI)"
      ],
      "metadata": {
        "id": "i09uowl89__s"
      }
    },
    {
      "cell_type": "markdown",
      "source": [
        "We will calculate the BMI for female participants and append a new column to the female dataset."
      ],
      "metadata": {
        "id": "lbP6ggXO-O-6"
      }
    },
    {
      "cell_type": "code",
      "source": [
        "# Calculate BMI = weight (kg) / (height (m))^2; height in meters is second column divided by 100\n",
        "height_in_meters = female[:, 1] / 100\n",
        "BMI = female_weights / (height_in_meters ** 2)\n",
        "\n",
        "# Add the BMI column to the female matrix\n",
        "female = np.column_stack((female, BMI))\n",
        "print(female[:5])\n"
      ],
      "metadata": {
        "id": "yvgJFqab8KHr"
      },
      "execution_count": null,
      "outputs": []
    },
    {
      "cell_type": "markdown",
      "source": [
        "Having computed the BMI values, the female matrix now offers a comprehensive view of health metrics, essential for examining body composition relative to weight."
      ],
      "metadata": {
        "id": "ZWl9Jc_p-R2_"
      }
    },
    {
      "cell_type": "markdown",
      "source": [
        "# Standardize of the Female Dataset"
      ],
      "metadata": {
        "id": "fSSkoDe9-C15"
      }
    },
    {
      "cell_type": "markdown",
      "source": [
        "Standardizing the female dataset, based on z-scores, enhances the comparability of body measurements."
      ],
      "metadata": {
        "id": "X9UghVVv7Axd"
      }
    },
    {
      "cell_type": "code",
      "source": [
        "# Compute z-scores for each column\n",
        "zfemale = (female - np.mean(female, axis=0)) / np.std(female, axis=0)\n",
        "print(zfemale[:5])"
      ],
      "metadata": {
        "id": "zLEy_eJE8KJ_"
      },
      "execution_count": null,
      "outputs": []
    },
    {
      "cell_type": "markdown",
      "source": [
        "The standardized matrix zfemales allows for the normalization of data, facilitating direct comparison across different body measurements."
      ],
      "metadata": {
        "id": "7LnjLQHR-WFm"
      }
    },
    {
      "cell_type": "markdown",
      "source": [
        "# Scatterplot Matrix and Correlation Coefficients"
      ],
      "metadata": {
        "id": "P5ROzARL-Gao"
      }
    },
    {
      "cell_type": "markdown",
      "source": [
        "Next, we will visualize the relationships between selected standardized measurements using a scatterplot matrix.\n",
        "\n",
        "We will calculate and interpret Pearson’s and Spearman’s correlation coefficients for the chosen metrics."
      ],
      "metadata": {
        "id": "ZG3WkVMQ-Zgx"
      }
    },
    {
      "cell_type": "code",
      "source": [
        "import seaborn as sns\n",
        "import pandas as pd\n",
        "selected_columns = [0, 1, 6, 5, 7]  # weight, height, waist, hip, BMI\n",
        "zfemale_selected = zfemale[:, selected_columns]\n",
        "df_zfemale = pd.DataFrame(zfemale_selected, columns=['Weight', 'Height', 'Waist', 'Hip', 'BMI'])\n",
        "\n",
        "sns.pairplot(df_zfemale)\n",
        "plt.show()\n",
        "\n",
        "corr_pearson = df_zfemale.corr(method='pearson')\n",
        "corr_spearman = df_zfemale.corr(method='spearman')\n",
        "\n",
        "print(\"Pearson Correlation:\\n\", corr_pearson)\n",
        "print(\"Spearman Correlation:\\n\", corr_spearman)\n",
        "\n"
      ],
      "metadata": {
        "id": "WU3aj4s18KOd"
      },
      "execution_count": null,
      "outputs": []
    },
    {
      "cell_type": "markdown",
      "source": [
        "The scatterplot matrix showcases distinct relationships, such as the notable correlation between weight and BMI. This visualization aids in understanding how these metrics relate within standardized criteria.\n",
        "\n",
        "The results from the correlation calculations underscore significant relationships between various metrics. The stronger correlations between weight and BMI highlights how these metrics coalesce in determining body composition."
      ],
      "metadata": {
        "id": "Zz4XURHc-eNu"
      }
    },
    {
      "cell_type": "markdown",
      "source": [
        "# Waist Circumference Ratios"
      ],
      "metadata": {
        "id": "ufdrdYBT-Jto"
      }
    },
    {
      "cell_type": "markdown",
      "source": [
        "Waist circumference ratios will be computed for enhanced analytical insights."
      ],
      "metadata": {
        "id": "pyviFSi0_8Jo"
      }
    },
    {
      "cell_type": "code",
      "source": [
        "# Calculate ratios\n",
        "male_waist_height_ratio = male[:, 0] / male[:, 1]\n",
        "female_waist_height_ratio = female[:, 0] / female[:, 1]\n",
        "\n",
        "male_waist_hip_ratio = male[:, 0] / male[:, 5]\n",
        "female_waist_hip_ratio = female[:, 0] / female[:, 5]\n",
        "\n",
        "# Add these ratios to the respective matrices\n",
        "male = np.column_stack((male, male_waist_height_ratio, male_waist_hip_ratio))\n",
        "female = np.column_stack((female, female_waist_height_ratio, female_waist_hip_ratio))\n",
        "print(male[:5])\n",
        "print(female[:5])\n"
      ],
      "metadata": {
        "id": "gEajPAel8KQ4"
      },
      "execution_count": null,
      "outputs": []
    },
    {
      "cell_type": "markdown",
      "source": [
        "The newly derived waist circumference ratios provide essential health indicators concerning fat distribution relative to height and hip circumference.\n",
        "\n"
      ],
      "metadata": {
        "id": "XaVDyeENAAVN"
      }
    },
    {
      "cell_type": "markdown",
      "source": [
        "# Box-and-Whisker Plot for Ratios"
      ],
      "metadata": {
        "id": "N1Wz33w3-Me0"
      }
    },
    {
      "cell_type": "markdown",
      "source": [
        "We will visualize the distributions of the newly computed waist-to-height and waist-to-hip ratios."
      ],
      "metadata": {
        "id": "osSdYj9jABqz"
      }
    },
    {
      "cell_type": "code",
      "source": [
        "# Create a boxplot for ratios\n",
        "plt.figure(figsize=(10, 6))\n",
        "plt.boxplot([female[:, 8], female[:, 8], male[:, 8], male[:, 8]],\n",
        "            labels=['Female Waist-Height', 'Female Waist-Hip', 'Male Waist-Height', 'Male Waist-Hip'])\n",
        "plt.title('Waist Circumference Ratios Box-and-Whisker Plot')\n",
        "plt.ylabel('Ratio')\n",
        "plt.grid()\n",
        "plt.show()\n"
      ],
      "metadata": {
        "id": "C5uJ_bf98KTe"
      },
      "execution_count": null,
      "outputs": []
    },
    {
      "cell_type": "markdown",
      "source": [
        "This box-and-whisker plot indicates that females tend to have lower ratios on both metrics compared to males. The dispersion is notably wider among males indicating greater variability in waist ratios."
      ],
      "metadata": {
        "id": "VllRbSS8AG3Q"
      }
    },
    {
      "cell_type": "markdown",
      "source": [
        "# Advantages and Disadvantages of BMI, Waist-to-Height Ratio, and Waist-to-Hip Ratio"
      ],
      "metadata": {
        "id": "Vp4pNsjw-pBW"
      }
    },
    {
      "cell_type": "markdown",
      "source": [
        "Finally, we will examine the advantages and disadvantages of BMI, waist-to-height ratio, and waist-to-hip ratio."
      ],
      "metadata": {
        "id": "FojecvJ7_ZMm"
      }
    },
    {
      "cell_type": "code",
      "source": [
        "print('''\n",
        "Advantages:\n",
        "\n",
        "*BMI: Simple and widely accepted measure, easy to calculate using height and weight.\n",
        "\n",
        "*Waist-to-Height Ratio: Considered a better indicator for assessing health risk compared to BMI, focusing on fat distribution.\n",
        "\n",
        "*Waist-to-Hip Ratio: Useful for identifying abdominal fat levels, crucial for metabolic health.\n",
        "\n",
        "Disadvantages:\n",
        "\n",
        "*BMI: Fails to distinguish between muscle and fat mass, potentially misclassifying athletic individuals.\n",
        "\n",
        "*Waist-to-Height Ratio: Less validated in certain populations; thresholds need further specification.\n",
        "\n",
        "*Waist-to-Hip Ratio: Calculations may be subjective, influenced by measurement techniques, and population-specific norms.\n",
        "''')\n"
      ],
      "metadata": {
        "id": "z-XwYXvUBIjK"
      },
      "execution_count": null,
      "outputs": []
    },
    {
      "cell_type": "markdown",
      "source": [
        "#Standardized Measurements for Extreme BMI"
      ],
      "metadata": {
        "id": "c1M5ARqqAweQ"
      }
    },
    {
      "cell_type": "markdown",
      "source": [
        "Lastly, we extract and print the standardized body measurements of individuals with the lowest and highest BMIs."
      ],
      "metadata": {
        "id": "3TAtJtObAJ_K"
      }
    },
    {
      "cell_type": "code",
      "source": [
        "# Find indices of BMIs\n",
        "zfemales = zfemale.copy()\n",
        "low_bmi_indices = np.argsort(female[:, 7])[:5]  # Lowest 5 BMIs\n",
        "high_bmi_indices = np.argsort(female[:, 7])[-5:]  # Highest 5 BMIs\n",
        "\n",
        "extreme_bmi_measurements = zfemales[np.concatenate((low_bmi_indices, high_bmi_indices))]\n",
        "print(extreme_bmi_measurements)\n"
      ],
      "metadata": {
        "id": "nW51h8Wb8Khi"
      },
      "execution_count": null,
      "outputs": []
    },
    {
      "cell_type": "markdown",
      "source": [
        "The extracted data reveals how individuals at the extremes of BMI differ significantly in terms of their measurements, accentuating the impact of BMI as a health indicator."
      ],
      "metadata": {
        "id": "GCJaJXwQAOJ-"
      }
    }
  ]
}